{
  "nbformat": 4,
  "nbformat_minor": 0,
  "metadata": {
    "colab": {
      "provenance": [],
      "authorship_tag": "ABX9TyPRw+3ZpvJxCKQiCJGkQLAU",
      "include_colab_link": true
    },
    "kernelspec": {
      "name": "python3",
      "display_name": "Python 3"
    },
    "language_info": {
      "name": "python"
    }
  },
  "cells": [
    {
      "cell_type": "markdown",
      "metadata": {
        "id": "view-in-github",
        "colab_type": "text"
      },
      "source": [
        "<a href=\"https://colab.research.google.com/github/KarenLira25/Proyecto-Redes-Neuronales/blob/main/Proyecto_Redes_Neuronales.ipynb\" target=\"_parent\"><img src=\"https://colab.research.google.com/assets/colab-badge.svg\" alt=\"Open In Colab\"/></a>"
      ]
    },
    {
      "cell_type": "markdown",
      "source": [
        "###Silvia Karen Retama Lira"
      ],
      "metadata": {
        "id": "OlX_MNXXxC6k"
      }
    },
    {
      "cell_type": "markdown",
      "source": [
        "##1. Entrena una red neuronal para que reproduzca la siguientes funciones en\n",
        "el intervalo de [-1,1]. Graficar la solución de la red en conjunto con la\n",
        "gráfica de la función.\n",
        "*   $3 sin(πx)$\n",
        "*   $1 + 2x + 4x^3$\n"
      ],
      "metadata": {
        "id": "MLbcFrgMxDDr"
      }
    },
    {
      "cell_type": "code",
      "source": [],
      "metadata": {
        "id": "XZeCQxNCxcn8"
      },
      "execution_count": null,
      "outputs": []
    },
    {
      "cell_type": "markdown",
      "source": [
        "##2. Elegir un problema de los siguientes\n",
        "\n",
        "*  Detectar fraudes en movimientos de tarjetas bancarias: https://www.kaggle.com/mlg-ulb/creditcardfraud\n",
        "*  Identificar enfermedades en plantas: https://www.kaggle.com/competitionsplant-pathology-2021-fgvc8/data\n",
        "y diseñnar y entrenar una red neuronal con keras."
      ],
      "metadata": {
        "id": "L8tcRvHmxcFO"
      }
    }
  ]
}